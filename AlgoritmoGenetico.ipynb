{
 "cells": [
  {
   "cell_type": "markdown",
   "id": "ec9c6936",
   "metadata": {},
   "source": [
    "# Import's"
   ]
  },
  {
   "cell_type": "code",
   "execution_count": 1,
   "id": "01ab065d",
   "metadata": {},
   "outputs": [],
   "source": [
    "import matplotlib.pyplot as plt\n",
    "import numpy as np\n",
    "import random\n",
    "import math\n",
    "import os"
   ]
  },
  {
   "cell_type": "markdown",
   "id": "9c75d52c",
   "metadata": {},
   "source": [
    "# Configurações"
   ]
  },
  {
   "cell_type": "code",
   "execution_count": 2,
   "id": "6f16cbfc",
   "metadata": {},
   "outputs": [],
   "source": [
    "## Valores de configuração:\n",
    "menor = -10\n",
    "maior = 10\n",
    "qtd_populacao = 5\n",
    "qtd_individuos = 4\n",
    "porct_crossover = 0.7\n",
    "porct_mutacao = 0.01"
   ]
  },
  {
   "cell_type": "markdown",
   "id": "5cfad4b6",
   "metadata": {},
   "source": [
    "# Código"
   ]
  },
  {
   "cell_type": "code",
   "execution_count": 3,
   "id": "a2eb315b",
   "metadata": {},
   "outputs": [],
   "source": [
    "def cria_individuo(menor, maior): ## Cria um individuo, que terá um valor entre os parametros menor e maior, essa valor será em binário.\n",
    "    size_individuo = len(format(max(abs(menor), abs(maior)), \"b\")) + 1 ## pega a quantidade de bits necessária para representa o maior valor, +1 do bit de negativo ou positivo\n",
    "    valor_int = random.randint(menor, maior) ## Escolhe um valor entre os limites inferiores (menor) e superior (maior)\n",
    "    valor_bin = [x for x in \"{:0{}b}\".format(abs(valor_int) & 2 ** size_individuo - 1, size_individuo)] ## Transoforma o número inteiro em binário com o tamanho de bits o tamanho de bits calculado, e salva em uma lista\n",
    "    valor_bin[0] = \"1\" if valor_int < 0 else \"0\" ## Adiciona o bit de verificação se o número é negativo ou não, esse bit é o primeiro bit do vetor\n",
    "    return valor_bin"
   ]
  },
  {
   "cell_type": "code",
   "execution_count": 4,
   "id": "c6b15d07",
   "metadata": {},
   "outputs": [],
   "source": [
    "def convert_int(valor_bin): ## Converte o valor binário em inteiro\n",
    "    valor_str = \"\".join(x for x in valor_bin[1:]) ## Transforma o valor binário que está na lista em uma string, o bit de verificação se é negativo não é processado\n",
    "    valor_int = int(valor_str, 2) ## Converte o valor binário (que está em uma string) em inteiro\n",
    "    valor_int *= -1 if valor_bin[0] == \"1\" else 1 ## Verifica se o valor é negativo ou não, no bit de verificação se o número é negativo ou não\n",
    "    return valor_int"
   ]
  },
  {
   "cell_type": "code",
   "execution_count": 5,
   "id": "ea27933d",
   "metadata": {},
   "outputs": [],
   "source": [
    "def fitness(valor_int): ## Realiza a função fitness\n",
    "    return (valor_int**2) - (3*valor_int) + 4"
   ]
  },
  {
   "cell_type": "code",
   "execution_count": 6,
   "id": "6d07ff71",
   "metadata": {},
   "outputs": [],
   "source": [
    "def rodeio(lista_individuos): ## Realiza o rodeio, escolhendo 2 individuos e devolvendo o melhor adaptado\n",
    "    roleta = []\n",
    "    for individuo in lista_individuos: ## Cria uma roleta com base na porcentagem destinada a cada individuo, ou porção destinada da roleta ao individuo\n",
    "        for i in range(individuo[2]):\n",
    "            roleta.append(individuo[:2])\n",
    "    escolha_1 = random.choice(roleta) ## Seleciona um individuo\n",
    "    escolha_2 = random.choice(roleta) ## Seleciona um individuo\n",
    "    return escolha_1[0].copy() if escolha_1[1] > escolha_2[1] else escolha_2[0].copy() ## Devolve o individuo mais bem adaptado dos individuos selecionados"
   ]
  },
  {
   "cell_type": "code",
   "execution_count": 7,
   "id": "625840fd",
   "metadata": {},
   "outputs": [],
   "source": [
    "def verifica_valor(valor_bin, menor = menor, maior = maior): ## Verifica se o valor não extrapolou os limites\n",
    "    valor_int = convert_int(valor_bin) ## Converte o valor em binário para inteiro\n",
    "    return True if (menor <= valor_int <= maior) else False ## Devolve True, caso o valor esteja dentro do limite e False caso contrário"
   ]
  },
  {
   "cell_type": "code",
   "execution_count": 8,
   "id": "75607c5f",
   "metadata": {},
   "outputs": [],
   "source": [
    "def crossover(porct, individuo_1, individuo_2): ## Realiza o crossover entre 2 individuos\n",
    "    qtd_posicoes = math.ceil(len(individuo_1) * porct) ## Calcula quantas posições devem ser trocadas entre os individuos\n",
    "    posicoes_trocadas = []\n",
    "    aux_individuo_1 = individuo_1.copy() ## Realiza a cópia do individuo 1\n",
    "    aux_individuo_2 = individuo_2.copy() ## Realiza a cópia do individuo 2\n",
    "    for i in range(qtd_posicoes):\n",
    "        posicao = random.randint(0, len(individuo_1) - 1) ## Escolhe um posição aleatória dos individuos para ser trocada\n",
    "        while posicao in posicoes_trocadas: ## Não permite que troque a mesma posição mais de uma vez\n",
    "            posicao = random.randint(0, len(individuo_1) - 1)\n",
    "        ## Realiza a troca de posições - Inicio\n",
    "        aux = aux_individuo_1[posicao]\n",
    "        aux_individuo_1[posicao] = aux_individuo_2[posicao]\n",
    "        aux_individuo_2[posicao] = aux\n",
    "        ############################## - Fim\n",
    "        posicoes_trocadas.append(posicao)\n",
    "    ## Retorna os filhos gerados do crossover, verificando se o valor deles não extrapolou os limites, caso extrapole retorna o valor sem crossover\n",
    "    return aux_individuo_1 if verifica_valor(aux_individuo_1) else individuo_1, aux_individuo_2 if verifica_valor(aux_individuo_2) else individuo_2"
   ]
  },
  {
   "cell_type": "code",
   "execution_count": 9,
   "id": "866786ad",
   "metadata": {},
   "outputs": [],
   "source": [
    "def mutacao(porct, lista_individuos): ## Realiza a mutação de um individuo\n",
    "    posicao_individuo = random.randint(0, len(lista_individuos) - 1) ## Escolhe aleatoriamente qual individuo soferá a mutação\n",
    "    aux_individuo = lista_individuos[posicao_individuo].copy() ## Realiza a cópia do individuo\n",
    "    qtd_posicoes = math.ceil(len(aux_individuo) * porct) ## Calcula quantas posições deve ser mutadas\n",
    "    posicoes_trocadas = []\n",
    "    for i in range(qtd_posicoes):\n",
    "        posicao = random.randint(0, len(aux_individuo) - 1)\n",
    "        while posicao in posicoes_trocadas: ## Escolhe um posição aleatória dos individuos para ser trocada\n",
    "            posicao = random.randint(0, len(aux_individuo) - 1) ## Não permite que troque a mesma posição mais de uma vez\n",
    "        ## Realiza a mutação de posições - Inicio\n",
    "        aux_individuo[posicao] = \"1\" if aux_individuo[posicao] == \"0\" else \"0\"\n",
    "        ############################## - Fim\n",
    "        posicoes_trocadas.append(posicao)\n",
    "    ## Verifica se a mutação no individuo não extrapolou os limites, caso extrapole desfaz a mutação\n",
    "    lista_individuos[posicao_individuo] = aux_individuo if verifica_valor(aux_individuo) else lista_individuos[posicao_individuo]\n",
    "    return lista_individuos"
   ]
  },
  {
   "cell_type": "code",
   "execution_count": 10,
   "id": "2fcb8bd4",
   "metadata": {},
   "outputs": [],
   "source": [
    "def imprimi(lista_individuos): ## Imprimi informações dos individuos presente na geração\n",
    "    print(\"Individuos da geração: \")\n",
    "    for individuo in lista_individuos:\n",
    "        print(\"Individuo: \" + str(individuo[0]) + \" Valor: \" + str(convert_int(individuo[0])) + \" Fitness: \" + str(individuo[1]) + \" Porção na roleta: \" + str(individuo[2]) + \" pedaços\")\n",
    "    print(\"###########################################################################\")"
   ]
  },
  {
   "cell_type": "code",
   "execution_count": 11,
   "id": "a8d4bb23",
   "metadata": {},
   "outputs": [],
   "source": [
    "def exibi_grafico(maior, menor, lista_individuos, geracao): ## Exibi o gráfico\n",
    "    variaveis = np.arange(menor, maior+1, 1) ## Pega todos os possiveis valores inteiros dentro do intervalo\n",
    "    plt.plot(variaveis, [fitness(x) for x in variaveis]) ## Plot: desenho da função\n",
    "    ## Pega os individuos da geração\n",
    "    lista_aux = [x[0] for x in lista_individuos] if len(lista_individuos[0]) == 3 else lista_individuos\n",
    "    for individuo in lista_aux:\n",
    "        plt.scatter(convert_int(individuo), fitness(convert_int(individuo)), c='red') ## Plot: Individuos no gráfico\n",
    "        plt.text(convert_int(individuo), fitness(convert_int(individuo)), individuo, ha = \"center\", weight = \"bold\") ## Plot: Informações dos individuos no gráfico\n",
    "    plt.xlabel(\"Valores dos indivíduos (inteiro)\")\n",
    "    plt.ylabel(\"Valores do fitness\")\n",
    "    plt.title((str(geracao+1) + \"º Geração:\") if geracao < qtd_populacao else \"Geração final:\")\n",
    "    plt.show()"
   ]
  },
  {
   "cell_type": "code",
   "execution_count": 12,
   "id": "973dcdfc",
   "metadata": {},
   "outputs": [],
   "source": [
    "def step(geracao, lista_individuos): ## Metodo para fazer o passo-a-passo, e poder verificar o desenvolver de cada geração\n",
    "    if geracao < qtd_populacao:\n",
    "        print(str(geracao+1) + \"º Geração:\")\n",
    "        if not lista_individuos: ## Cria os individuos, caso não existam\n",
    "            for i in range(qtd_individuos): \n",
    "                lista_individuos.append(cria_individuo(menor, maior)) ## Cria os individuos\n",
    "        somatorio_resultados = 0\n",
    "        for index, individuo in enumerate(lista_individuos): ## Realiza o fitness dos individuos da geração\n",
    "            lista_individuos[index] = [individuo, fitness(convert_int(individuo))]\n",
    "            somatorio_resultados += lista_individuos[index][1]\n",
    "        lista_individuos = [[x[0], x[1], round((x[1]/ somatorio_resultados)*10)] for x in lista_individuos]\n",
    "        imprimi(lista_individuos)\n",
    "        exibi_grafico(maior, menor, lista_individuos, geracao)\n",
    "        novos_individuos = []\n",
    "        for i in range(int(qtd_individuos/2)): ## Gera os filhos, realizando os rodeios e o crossover, para criação dos filhos dos individuos selecionados\n",
    "            escolha_1 = rodeio(lista_individuos) ## Escolhe um individuo\n",
    "            print(\"Escolha \" + str(2*i+1) + \": \" + str(escolha_1))\n",
    "            escolha_2 = rodeio(lista_individuos) ## Escolhe um individuo\n",
    "            print(\"Escolha \" + str(2*i+2) + \": \" + str(escolha_2))\n",
    "            novos_individuos += crossover(porct_crossover, escolha_1, escolha_2) ## Realiza o crossover\n",
    "        print(\"Filhos gerados: \" + str(novos_individuos))\n",
    "        lista_individuos = mutacao(porct_mutacao, novos_individuos) ## Realiza  amutação em um dos filhos\n",
    "        print(\"Filhos gerados (com mutação): \" + str(lista_individuos))\n",
    "        geracao += 1 ## Adiciona mais um, para contabilizar a geração\n",
    "    else: ## Para quando acabar as gerações\n",
    "        print(\"Individuos melhores adaptados: \")\n",
    "        print(\"\\n\".join(\"Individuo: \" + str(individuo) + \" Valor: \"  + str(convert_int(individuo)) + \" Fitness: \" + str(fitness(convert_int(individuo))) for individuo in lista_individuos))\n",
    "        exibi_grafico(maior, menor, lista_individuos, geracao)\n",
    "    return geracao, lista_individuos"
   ]
  },
  {
   "cell_type": "markdown",
   "id": "c0bba5d6",
   "metadata": {},
   "source": [
    "### Set inicial dos valores"
   ]
  },
  {
   "cell_type": "code",
   "execution_count": 13,
   "id": "623492df",
   "metadata": {},
   "outputs": [],
   "source": [
    "lista_individuos = [] ## Lista de individuos na geração\n",
    "geracao = 0 ## Geração"
   ]
  },
  {
   "cell_type": "markdown",
   "id": "32212a74",
   "metadata": {},
   "source": [
    "### Step"
   ]
  },
  {
   "cell_type": "code",
   "execution_count": 19,
   "id": "f3485ea6",
   "metadata": {
    "scrolled": false
   },
   "outputs": [
    {
     "name": "stdout",
     "output_type": "stream",
     "text": [
      "Individuos melhores adaptados: \n",
      "Individuo: ['1', '1', '0', '0', '1'] Valor: -9 Fitness: 112\n",
      "Individuo: ['1', '1', '0', '0', '1'] Valor: -9 Fitness: 112\n",
      "Individuo: ['1', '1', '0', '0', '0'] Valor: -8 Fitness: 92\n",
      "Individuo: ['1', '1', '0', '0', '0'] Valor: -8 Fitness: 92\n"
     ]
    },
    {
     "data": {
      "image/png": "[encoded data removed]",
      "text/plain": [
       "<Figure size 432x288 with 1 Axes>"
      ]
     },
     "metadata": {
      "needs_background": "light"
     },
     "output_type": "display_data"
    }
   ],
   "source": [
    "geracao, lista_individuos = step(geracao, lista_individuos) ## Realiza o passo-a-passo, para poder verificar o desenvolver de cada geração"
   ]
  },
  {
   "cell_type": "code",
   "execution_count": null,
   "id": "c7cf1c77",
   "metadata": {},
   "outputs": [],
   "source": []
  }
 ],
 "metadata": {
  "kernelspec": {
   "display_name": "Python 3 (ipykernel)",
   "language": "python",
   "name": "python3"
  },
  "language_info": {
   "codemirror_mode": {
    "name": "ipython",
    "version": 3
   },
   "file_extension": ".py",
   "mimetype": "text/x-python",
   "name": "python",
   "nbconvert_exporter": "python",
   "pygments_lexer": "ipython3",
   "version": "3.10.4"
  }
 },
 "nbformat": 4,
 "nbformat_minor": 5
}
